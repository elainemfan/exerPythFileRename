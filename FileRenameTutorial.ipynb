{
 "cells": [
  {
   "cell_type": "code",
   "execution_count": null,
   "source": [
    "import os\n",
    "\n",
    "os.chdir('/Users/ElaineFan/Desktop/CS/wk4/Filename')\n",
    "\n",
    "for f in os.listdir():\n",
    "   f_name, f_ext = os.path.splitext(f)\n",
    "   \n",
    "   f_title, f_course, f_num = f_name.split('-')\n",
    "   \n",
    "   f_title = f_title.strip()\n",
    "   f_course = f_course.strip()\n",
    "   f_num= f_num.strip() [1:].zfill(2)\n",
    "\n",
    "   new_name = '{}-{}-{}{}'.format(f_num, f_course, f_title, f_ext)"
   ],
   "outputs": [],
   "metadata": {}
  }
 ],
 "metadata": {
  "orig_nbformat": 4,
  "language_info": {
   "name": "python",
   "version": "3.8.8",
   "mimetype": "text/x-python",
   "codemirror_mode": {
    "name": "ipython",
    "version": 3
   },
   "pygments_lexer": "ipython3",
   "nbconvert_exporter": "python",
   "file_extension": ".py"
  },
  "kernelspec": {
   "name": "python3",
   "display_name": "Python 3.8.8 64-bit ('base': conda)"
  },
  "interpreter": {
   "hash": "ceeeedb85c0ef194a1205176bf405a3767ad7aeb6287bd669b0bb225ba1e139c"
  }
 },
 "nbformat": 4,
 "nbformat_minor": 2
}